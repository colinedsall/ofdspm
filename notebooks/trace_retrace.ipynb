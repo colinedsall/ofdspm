{
 "cells": [
  {
   "cell_type": "markdown",
   "id": "4bca2126",
   "metadata": {},
   "source": [
    "# trace_retrace.ipynb\n",
    "## Training ML Models Using Trace and Retrace Data\n",
    "\n",
    "This notebook should succeed in improving the ML models we have tested in `benchmark.ipynb` and `simulator.ipynb` by adding both **trace and retrace** data to the dataset fed into the ML algorithms.\n",
    "\n",
    "Some pickle files have been added to the repo in addition to this notebook. The pickle files contain this information (in addition to `.ibw` filedata):\n",
    "- __traces:__ shape of (N, M, C, L), forward and backward scan lines for the \"Height\", \"Amplitude\", \"Phase\", and \"ZHeight\" channels.\n",
    "- __x_measured:__ shape of (N, D), controlling parameters of \"drive\", \"setpoint\", and \"I gain\" for each set of the traces. Both drive and setpoint are in the unit of nanometers.\n",
    "- __y_measured:__ shape of (N, P), recorded reward values in the optimization process.\n",
    "- __param:__ important global parameters for the dataset, including ['ScanSize', 'ScanRate', 'PointsLines', 'IntegralGain', 'InvOLS', 'SpringConstant', 'DriveFrequency']\n",
    "- __header:__ all the global parameters recorded in the topo.ibw file by the SPM controller\n",
    "- __topo:__ topography with the optimized parameters for visualizing the area where the traces were taken\n",
    "\n",
    "***Explanation of the shape values:***\n",
    "- __N:__ number of different sets of controlling parameters. This value corresponding to the length of x_measured and y_measured. The first 5-10 are usually the random seeding points.\n",
    "- __M:__ number of repeats for each set of controlling parameters. Usually this value is set to 5 to avoid random errors in the scan lines.\n",
    "- __C:__ number of different channels recorded for the traces, usually set to 8\n",
    "- __L:__ number of pixels in each trace line, usually set to be 256\n",
    "- __D:__ number of controlling parameters, usually set to be 3\n",
    "- __P:__ number of rewards. For BO, it's 1. For MOBO, it can be 3-4\n",
    "\n",
    "It is important to note that this information was taken from another notebook. Though there is talk about rewards for training for reinforcement learning (RL) or Bayesian optimization (BO), **this notebook will solely focus on using the data from these pickle files to detect failures in the SPM image.**\n",
    "\n",
    "\n"
   ]
  },
  {
   "cell_type": "code",
   "execution_count": 2,
   "id": "fabf0ecd",
   "metadata": {},
   "outputs": [],
   "source": [
    "import numpy as np\n",
    "import pickle\n",
    "import os\n",
    "import matplotlib.pyplot as plt\n",
    "import aespm as ae"
   ]
  },
  {
   "cell_type": "code",
   "execution_count": 4,
   "id": "4f33a4ba",
   "metadata": {},
   "outputs": [
    {
     "ename": "FileNotFoundError",
     "evalue": "[Errno 2] No such file or directory: 'scan_traces/MOBO'",
     "output_type": "error",
     "traceback": [
      "\u001b[31m---------------------------------------------------------------------------\u001b[39m",
      "\u001b[31mFileNotFoundError\u001b[39m                         Traceback (most recent call last)",
      "\u001b[36mCell\u001b[39m\u001b[36m \u001b[39m\u001b[32mIn[4]\u001b[39m\u001b[32m, line 3\u001b[39m\n\u001b[32m      1\u001b[39m sample_folder = \u001b[33m'\u001b[39m\u001b[33mscan_traces/MOBO\u001b[39m\u001b[33m'\u001b[39m\n\u001b[32m----> \u001b[39m\u001b[32m3\u001b[39m files = \u001b[43mos\u001b[49m\u001b[43m.\u001b[49m\u001b[43mlistdir\u001b[49m\u001b[43m(\u001b[49m\u001b[43msample_folder\u001b[49m\u001b[43m)\u001b[49m\n\u001b[32m      5\u001b[39m file_name = []\n\u001b[32m      6\u001b[39m save_name = []\n",
      "\u001b[31mFileNotFoundError\u001b[39m: [Errno 2] No such file or directory: 'scan_traces/MOBO'"
     ]
    }
   ],
   "source": [
    "\n",
    "sample_folder = 'scan_traces/MOBO'\n",
    "\n",
    "files = os.listdir(sample_folder)\n",
    "\n",
    "file_name = []\n",
    "save_name = []\n",
    "\n",
    "for f in files:\n",
    "    if f.endswith('.pickle'):\n",
    "        file_name.append(os.path.join(sample_folder, f))\n",
    "        save_name.append(f.split('.')[0])\n",
    "\n",
    "file_name = sorted(file_name)\n",
    "file_name\n",
    "\n",
    "with open(file_name[-7], 'rb') as fopen:\n",
    "    obj = pickle.load(fopen)\n",
    "\n",
    "topo = obj['topo']\n",
    "titles = ['Height', 'Amplitude', 'Phase', 'Height']\n",
    "fig, ax = plt.subplots(1,4,figsize=[12, 2.5])\n",
    "for i in range(4):\n",
    "    # If there are only 4 data channels in the topo.data, we don't need to skip any index\n",
    "    im = ax[i].imshow(topo.data[::2][i], origin='lower')\n",
    "    ax[i].set_title(titles[i])\n",
    "    plt.colorbar(im, ax=ax[i])\n",
    "\n",
    "plt.tight_layout()"
   ]
  }
 ],
 "metadata": {
  "kernelspec": {
   "display_name": ".venv",
   "language": "python",
   "name": "python3"
  },
  "language_info": {
   "codemirror_mode": {
    "name": "ipython",
    "version": 3
   },
   "file_extension": ".py",
   "mimetype": "text/x-python",
   "name": "python",
   "nbconvert_exporter": "python",
   "pygments_lexer": "ipython3",
   "version": "3.13.3"
  }
 },
 "nbformat": 4,
 "nbformat_minor": 5
}
